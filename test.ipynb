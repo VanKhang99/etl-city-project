{
 "cells": [
  {
   "cell_type": "code",
   "execution_count": 6,
   "metadata": {},
   "outputs": [
    {
     "name": "stdout",
     "output_type": "stream",
     "text": [
      "{'data': {'id': 173802, 'wikiDataId': 'Q21194', 'type': 'CITY', 'city': 'Vũng Tàu', 'name': 'Vũng Tàu', 'country': 'Vietnam', 'countryCode': 'VN', 'region': 'Bà Rịa-Vũng Tàu', 'regionCode': '43', 'regionWdId': 'Q36874', 'latitude': 10.41391, 'longitude': 107.13087, 'population': 357124, 'timezone': 'Asia__Ho_Chi_Minh', 'deleted': False}}\n"
     ]
    }
   ],
   "source": [
    "import requests\n",
    "\n",
    "url = \"https://wft-geo-db.p.rapidapi.com/v1/geo/cities/Q21194\"\n",
    "\n",
    "headers = {\n",
    "\t\"X-RapidAPI-Key\": \"94e1cf3537mshb395c2b8765d914p1dff7fjsnba7ed4fb8d55\",\n",
    "\t\"X-RapidAPI-Host\": \"wft-geo-db.p.rapidapi.com\"\n",
    "}\n",
    "\n",
    "response = requests.get(url, headers=headers)\n",
    "\n",
    "print(response.json())"
   ]
  },
  {
   "cell_type": "code",
   "execution_count": 3,
   "metadata": {},
   "outputs": [
    {
     "name": "stdout",
     "output_type": "stream",
     "text": [
      "[{\"name\": \"Ho Chi Minh City\", \"latitude\": 10.8167, \"longitude\": 106.633, \"country\": \"VN\", \"population\": 13312000, \"is_capital\": false}]\n"
     ]
    }
   ],
   "source": [
    "import requests\n",
    "\n",
    "name = 'Hồ Chí Minh'\n",
    "api_url = 'https://api.api-ninjas.com/v1/city?name={}'.format(name)\n",
    "response = requests.get(api_url, headers={'X-Api-Key': 'VzSpXwwm2MiA7PX0R0HzpA==JNExnLNSVzbnYzNj'})\n",
    "if response.status_code == requests.codes.ok:\n",
    "    print(response.text)\n",
    "else:\n",
    "    print(\"Error:\", response.status_code, response.text)"
   ]
  },
  {
   "cell_type": "code",
   "execution_count": 2,
   "metadata": {},
   "outputs": [
    {
     "name": "stdout",
     "output_type": "stream",
     "text": [
      "{\"coord\":{\"lon\":108.0833,\"lat\":16.0833},\"weather\":[{\"id\":501,\"main\":\"Rain\",\"description\":\"moderate rain\",\"icon\":\"10d\"}],\"base\":\"stations\",\"main\":{\"temp\":306.1,\"feels_like\":311.84,\"temp_min\":306.1,\"temp_max\":306.1,\"pressure\":1003,\"humidity\":58},\"visibility\":10000,\"wind\":{\"speed\":2.57,\"deg\":80},\"rain\":{\"1h\":1.33},\"clouds\":{\"all\":75},\"dt\":1717049910,\"sys\":{\"type\":1,\"id\":9306,\"country\":\"VN\",\"sunrise\":1717020910,\"sunset\":1717067737},\"timezone\":25200,\"id\":1905468,\"name\":\"Thanh Pho GJa Nang\",\"cod\":200}\n"
     ]
    }
   ],
   "source": [
    "import requests\n",
    "\n",
    "lat = 16.08333\n",
    "lon = 108.08333\n",
    "API_key='cb9774016f254a4cb1aa6516bf401afa'\n",
    "api_url = f'https://api.openweathermap.org/data/2.5/weather?lat={lat}&lon={lon}&appid={API_key}'\n",
    "response = requests.get(api_url)\n",
    "if response.status_code == requests.codes.ok:\n",
    "    print(response.text)\n",
    "else:\n",
    "    print(\"Error:\", response.status_code, response.text)"
   ]
  },
  {
   "cell_type": "code",
   "execution_count": null,
   "metadata": {},
   "outputs": [],
   "source": [
    "{'data': \n",
    "    {\n",
    "        'id': 3453217, \n",
    "        'wikiDataId': 'Q1854', \n",
    "        'type': 'CITY', \n",
    "        'city': 'Ho Chi Minh City', \n",
    "        'name': 'Ho Chi Minh City', \n",
    "        'country': 'Vietnam', \n",
    "        'countryCode': 'VN', \n",
    "        'region': 'Ho Chi Minh City', \n",
    "        'regionCode': 'SG', \n",
    "        'regionWdId': 'Q1854', \n",
    "        'latitude': 10.82302, \n",
    "        'longitude': 106.62965, \n",
    "        'population': 9389720, \n",
    "        'timezone': 'Asia__Ho_Chi_Minh', \n",
    "        'deleted': False\n",
    "    }\n",
    " }\n",
    "\n",
    "  # is_weather_api_ready = HttpSensor(\n",
    "  #   task_id = 'is_weather_api_ready',\n",
    "  #   http_conn_id ='weather_map_api_connection',\n",
    "  #   endpoint ='/data/2.5/weather?lat=10.762622&lon=106.660172&appid=cb9774016f254a4cb1aa6516bf401afa'\n",
    "  # )\n",
    "\n",
    "   # extract_city_data_from_api = SimpleHttpOperator(\n",
    "  #   task_id = 'extract_city_data_from_api',\n",
    "  #   http_conn_id = 'city_map_api_connection',\n",
    "  #   endpoint = '/v1/geo/cities/Q25282',\n",
    "  #   headers = {\n",
    "  #     \"X-RapidAPI-Key\": \"94e1cf3537mshb395c2b8765d914p1dff7fjsnba7ed4fb8d55\"\n",
    "  #   },\n",
    "  #   method = 'GET',\n",
    "  #   response_filter = lambda response: json.loads(response.text),\n",
    "  #   log_response = True\n",
    "  # )\n",
    "\n",
    "\n",
    "    # extract_weather_data_from_api = SimpleHttpOperator(\n",
    "  #   task_id = 'extract_data_from_api',\n",
    "  #   http_conn_id = 'weather_map_api_connection',\n",
    "  #   endpoint = '/data/2.5/weather?lat=10.762622&lon=106.660172&appid=cb9774016f254a4cb1aa6516bf401afa',\n",
    "  #   method = 'GET',\n",
    "  #   response_filter = lambda response: json.loads(response.text),\n",
    "  #   log_response = True\n",
    "  # )\n",
    "\n",
    "\n",
    "  # def delete_file(**kwargs):\n",
    "  #   ti = kwargs['ti']\n",
    "  #   is_weather = kwargs['is_weather']\n",
    "  #   task_ids = kwargs['task_ids']\n",
    "  #   file_name = ti.xcom_pull(task_ids=f'group_tasks.{task_ids}' if is_weather else f'{task_ids}')['file_name']\n",
    "\n",
    "  #   os.remove(f'/opt/airflow/data-transformed/{file_name}')\n",
    "\n",
    "    # delete_file_weather = PythonOperator(\n",
    "    #   task_id = 'delete_file_weather',\n",
    "    #   python_callable = delete_file,\n",
    "    #   op_kwargs = {\n",
    "    #     'task_ids': 'transform_data_weather_api',\n",
    "    #     'is_weather': True\n",
    "    #   }\n",
    "    # )"
   ]
  },
  {
   "cell_type": "code",
   "execution_count": null,
   "metadata": {},
   "outputs": [],
   "source": [
    "# check_data_city_is_exist = PythonOperator(\n",
    "    #   task_id = 'check_data_city_is_exist',\n",
    "    #   python_callable = check_data_city_is_exist\n",
    "    # )\n",
    "\n",
    "\n",
    "# def check_data_city_is_exist(**kwargs):\n",
    "#   ti = kwargs['ti']\n",
    "#   wiki_id = ti.xcom_pull(task_ids=f'transform_data_city_api')['wiki_id']\n",
    "\n",
    "#   query = f\"SELECT COUNT(*) FROM cities WHERE wiki_id = '{wiki_id}';\"\n",
    "#   hook = PostgresHook(postgres_conn_id='postgres_connection_id')\n",
    "#   records = hook.get_records(query)\n",
    "  \n",
    "#   if records[0][0] >= 1:\n",
    "#     return f'end_tasks_flow'\n",
    "#   else:\n",
    "#     return f'group_tasks.load_csv_city_to_postgres'"
   ]
  },
  {
   "cell_type": "code",
   "execution_count": 1,
   "metadata": {},
   "outputs": [],
   "source": [
    "import pandas as pd"
   ]
  },
  {
   "cell_type": "code",
   "execution_count": 22,
   "metadata": {},
   "outputs": [],
   "source": [
    "data = [['A', 'Math'], ['B', 'English'], ['C', 'Math'], ['D', 'Biology'], ['E', 'Math'], ['F', 'Computer'], ['G', 'Math'], ['H', 'Math'], ['I', 'Math']]\n",
    "courses = pd.DataFrame(data, columns=['student', 'class']).astype({'student':'object', 'class':'object'})"
   ]
  },
  {
   "cell_type": "code",
   "execution_count": 23,
   "metadata": {},
   "outputs": [
    {
     "data": {
      "text/html": [
       "<div>\n",
       "<style scoped>\n",
       "    .dataframe tbody tr th:only-of-type {\n",
       "        vertical-align: middle;\n",
       "    }\n",
       "\n",
       "    .dataframe tbody tr th {\n",
       "        vertical-align: top;\n",
       "    }\n",
       "\n",
       "    .dataframe thead th {\n",
       "        text-align: right;\n",
       "    }\n",
       "</style>\n",
       "<table border=\"1\" class=\"dataframe\">\n",
       "  <thead>\n",
       "    <tr style=\"text-align: right;\">\n",
       "      <th></th>\n",
       "      <th>student</th>\n",
       "      <th>class</th>\n",
       "    </tr>\n",
       "  </thead>\n",
       "  <tbody>\n",
       "    <tr>\n",
       "      <th>0</th>\n",
       "      <td>A</td>\n",
       "      <td>Math</td>\n",
       "    </tr>\n",
       "    <tr>\n",
       "      <th>1</th>\n",
       "      <td>B</td>\n",
       "      <td>English</td>\n",
       "    </tr>\n",
       "    <tr>\n",
       "      <th>2</th>\n",
       "      <td>C</td>\n",
       "      <td>Math</td>\n",
       "    </tr>\n",
       "    <tr>\n",
       "      <th>3</th>\n",
       "      <td>D</td>\n",
       "      <td>Biology</td>\n",
       "    </tr>\n",
       "    <tr>\n",
       "      <th>4</th>\n",
       "      <td>E</td>\n",
       "      <td>Math</td>\n",
       "    </tr>\n",
       "    <tr>\n",
       "      <th>5</th>\n",
       "      <td>F</td>\n",
       "      <td>Computer</td>\n",
       "    </tr>\n",
       "    <tr>\n",
       "      <th>6</th>\n",
       "      <td>G</td>\n",
       "      <td>Math</td>\n",
       "    </tr>\n",
       "    <tr>\n",
       "      <th>7</th>\n",
       "      <td>H</td>\n",
       "      <td>Math</td>\n",
       "    </tr>\n",
       "    <tr>\n",
       "      <th>8</th>\n",
       "      <td>I</td>\n",
       "      <td>Math</td>\n",
       "    </tr>\n",
       "  </tbody>\n",
       "</table>\n",
       "</div>"
      ],
      "text/plain": [
       "  student     class\n",
       "0       A      Math\n",
       "1       B   English\n",
       "2       C      Math\n",
       "3       D   Biology\n",
       "4       E      Math\n",
       "5       F  Computer\n",
       "6       G      Math\n",
       "7       H      Math\n",
       "8       I      Math"
      ]
     },
     "execution_count": 23,
     "metadata": {},
     "output_type": "execute_result"
    }
   ],
   "source": [
    "courses"
   ]
  },
  {
   "cell_type": "code",
   "execution_count": 35,
   "metadata": {},
   "outputs": [
    {
     "data": {
      "text/html": [
       "<div>\n",
       "<style scoped>\n",
       "    .dataframe tbody tr th:only-of-type {\n",
       "        vertical-align: middle;\n",
       "    }\n",
       "\n",
       "    .dataframe tbody tr th {\n",
       "        vertical-align: top;\n",
       "    }\n",
       "\n",
       "    .dataframe thead th {\n",
       "        text-align: right;\n",
       "    }\n",
       "</style>\n",
       "<table border=\"1\" class=\"dataframe\">\n",
       "  <thead>\n",
       "    <tr style=\"text-align: right;\">\n",
       "      <th></th>\n",
       "      <th>class</th>\n",
       "      <th>cnt</th>\n",
       "    </tr>\n",
       "  </thead>\n",
       "  <tbody>\n",
       "    <tr>\n",
       "      <th>0</th>\n",
       "      <td>Biology</td>\n",
       "      <td>1</td>\n",
       "    </tr>\n",
       "    <tr>\n",
       "      <th>1</th>\n",
       "      <td>Computer</td>\n",
       "      <td>1</td>\n",
       "    </tr>\n",
       "    <tr>\n",
       "      <th>2</th>\n",
       "      <td>English</td>\n",
       "      <td>1</td>\n",
       "    </tr>\n",
       "    <tr>\n",
       "      <th>3</th>\n",
       "      <td>Math</td>\n",
       "      <td>6</td>\n",
       "    </tr>\n",
       "  </tbody>\n",
       "</table>\n",
       "</div>"
      ],
      "text/plain": [
       "      class  cnt\n",
       "0   Biology    1\n",
       "1  Computer    1\n",
       "2   English    1\n",
       "3      Math    6"
      ]
     },
     "execution_count": 35,
     "metadata": {},
     "output_type": "execute_result"
    }
   ],
   "source": [
    "result = courses.groupby('class', as_index=False).agg(cnt=('class', 'count'))\n",
    "result"
   ]
  },
  {
   "cell_type": "code",
   "execution_count": 37,
   "metadata": {},
   "outputs": [
    {
     "data": {
      "text/html": [
       "<div>\n",
       "<style scoped>\n",
       "    .dataframe tbody tr th:only-of-type {\n",
       "        vertical-align: middle;\n",
       "    }\n",
       "\n",
       "    .dataframe tbody tr th {\n",
       "        vertical-align: top;\n",
       "    }\n",
       "\n",
       "    .dataframe thead th {\n",
       "        text-align: right;\n",
       "    }\n",
       "</style>\n",
       "<table border=\"1\" class=\"dataframe\">\n",
       "  <thead>\n",
       "    <tr style=\"text-align: right;\">\n",
       "      <th></th>\n",
       "      <th>class</th>\n",
       "    </tr>\n",
       "  </thead>\n",
       "  <tbody>\n",
       "    <tr>\n",
       "      <th>3</th>\n",
       "      <td>Math</td>\n",
       "    </tr>\n",
       "  </tbody>\n",
       "</table>\n",
       "</div>"
      ],
      "text/plain": [
       "  class\n",
       "3  Math"
      ]
     },
     "execution_count": 37,
     "metadata": {},
     "output_type": "execute_result"
    }
   ],
   "source": [
    "result[result.cnt >= 5][['class']]"
   ]
  }
 ],
 "metadata": {
  "kernelspec": {
   "display_name": "Python 3",
   "language": "python",
   "name": "python3"
  },
  "language_info": {
   "codemirror_mode": {
    "name": "ipython",
    "version": 3
   },
   "file_extension": ".py",
   "mimetype": "text/x-python",
   "name": "python",
   "nbconvert_exporter": "python",
   "pygments_lexer": "ipython3",
   "version": "3.11.3"
  }
 },
 "nbformat": 4,
 "nbformat_minor": 2
}
